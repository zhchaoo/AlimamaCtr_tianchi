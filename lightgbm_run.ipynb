{
 "cells": [
  {
   "cell_type": "code",
   "execution_count": null,
   "metadata": {},
   "outputs": [],
   "source": [
    "import numpy as np\n",
    "import pandas as pd\n",
    "import statsmodels as sm\n",
    "import matplotlib.pylab as plt\n",
    "import config as cf\n",
    "import import_ipynb\n",
    "import os\n",
    "import sys\n",
    "import lightgbm as lgb\n",
    "import time\n",
    "import itertools\n",
    "\n",
    "from datetime import datetime, timedelta\n",
    "from sklearn.metrics import mean_squared_error, log_loss\n",
    "from chinese_calendar import is_workday, is_holiday\n",
    "from jupyterthemes import jtplot\n",
    "from IPython.core.display import clear_output\n",
    "from feature_extract import *\n",
    "\n",
    "jtplot.style()\n",
    "pd.options.display.max_rows = 1000\n",
    "pd.options.display.max_columns = 200\n",
    "\n",
    "from IPython.core.display import display, HTML\n",
    "display(HTML(\"<style>.container { width:96% !important; }</style>\"))"
   ]
  },
  {
   "cell_type": "code",
   "execution_count": null,
   "metadata": {},
   "outputs": [],
   "source": [
    "exec_time = time.strftime(\"%Y%m%d%H%M\", time.localtime())\n",
    "os.mkdir('{0}_{1}'.format(cf.model_path, exec_time))"
   ]
  },
  {
   "cell_type": "code",
   "execution_count": null,
   "metadata": {},
   "outputs": [],
   "source": [
    "trainV_df = pd.read_csv(cf.train_valid_features_file_path, index_col=0)\n",
    "testV_df = pd.read_csv(cf.test_valid_features_file_path, index_col=0)\n",
    "\n",
    "train_df = pd.read_csv(cf.train_data_features_file_path, index_col=0)\n",
    "test_df = pd.read_csv(cf.test_data_features_file_path, index_col=0)\n",
    "\n",
    "ret_test_df = pd.read_csv(cf.round1_test_file_path, sep=' ')"
   ]
  },
  {
   "cell_type": "code",
   "execution_count": null,
   "metadata": {},
   "outputs": [],
   "source": [
    "print testV_df.shape\n",
    "print trainV_df.shape\n",
    "\n",
    "print test_df.shape\n",
    "print train_df.shape\n",
    "\n",
    "print trainV_df[['is_trade']].describe()\n",
    "print testV_df[['is_trade']].describe()\n",
    "print train_df[['is_trade']].describe()"
   ]
  },
  {
   "cell_type": "code",
   "execution_count": null,
   "metadata": {},
   "outputs": [],
   "source": [
    "feature_start = 8\n",
    "\n",
    "trainV_y = trainV_df.iloc[:,0]\n",
    "trainV_X = trainV_df.iloc[:,feature_start + 1:]\n",
    "testV_y = testV_df.iloc[:,0]\n",
    "testV_X = testV_df.iloc[:,feature_start + 1:]\n",
    "\n",
    "train_y = train_df.iloc[:,0]\n",
    "train_X = train_df.iloc[:,feature_start + 1:]\n",
    "test_X = test_df.iloc[:,feature_start:]\n",
    "\n",
    "print trainV_X.shape\n",
    "print testV_X.shape\n",
    "print train_X.shape\n",
    "print test_X.shape"
   ]
  },
  {
   "cell_type": "code",
   "execution_count": null,
   "metadata": {},
   "outputs": [],
   "source": [
    "trainV_X.columns.values"
   ]
  },
  {
   "cell_type": "code",
   "execution_count": null,
   "metadata": {
    "scrolled": false
   },
   "outputs": [],
   "source": [
    "# test\n",
    "def test_lgbm(leaves, depth, est):\n",
    "    clf = lgb.LGBMClassifier(num_leaves=leaves, max_depth=depth, n_estimators=est, n_jobs=20)\n",
    "#     clf = lgb.LGBMClassifier()\n",
    "    clf.fit(trainV_X, trainV_y)\n",
    "    testV_pred = pd.Series(clf.predict_proba(testV_X)[:,1])\n",
    "    testV_pred.name = 'predicted_score'\n",
    "\n",
    "#     testV_pred.hist()\n",
    "#     print testV_pred.value_counts().head()\n",
    "    logloss_eval = log_loss(testV_y.values, testV_pred.values)\n",
    "    return logloss_eval\n",
    "\n",
    "best_pramas = {}\n",
    "best_eval = 1\n",
    "all_depth = range(7, 10)\n",
    "all_leaves = range(70, 85, 1)\n",
    "all_ests = [80, 100]\n",
    "\n",
    "with open('{0}_{1}/{2}'.format(cf.model_path, exec_time, cf.model_valid_log), 'w+') as outf:\n",
    "    for d, l, e in list(itertools.product(all_depth, all_leaves, all_ests)):\n",
    "        params = {'leaves': l, 'depth': d, 'estimators': e}\n",
    "        logloss_eval = test_lgbm(params['leaves'], params['depth'], params['estimators'])\n",
    "        outf.write(\"%f:%s\\n\" %(logloss_eval, str(params)))\n",
    "        outf.flush()\n",
    "        if logloss_eval < best_eval:\n",
    "            print \"%f:%s\" %(logloss_eval, str(params))\n",
    "            best_eval = logloss_eval\n",
    "            best_params = params\n",
    "    outf.write(\"best %f:%s\\n\" %(best_eval, str(best_params)))\n",
    "    print \"best %f:%s\" %(best_eval, str(best_params))"
   ]
  },
  {
   "cell_type": "code",
   "execution_count": null,
   "metadata": {},
   "outputs": [],
   "source": [
    "# pred\n",
    "clf = lgb.LGBMClassifier(num_leaves=best_params['leaves'], max_depth=best_params['depth'], n_estimators=best_params['estimators'], n_jobs=20)\n",
    "# clf = lgb.LGBMClassifier(num_leaves=72, max_depth=7, n_estimators=100, n_jobs=20)\n",
    "clf.fit(train_X, train_y)\n",
    "test_pred = pd.Series(clf.predict_proba(test_X)[:,1])\n",
    "test_pred.name = 'predicted_score'\n",
    "\n",
    "test_pred.hist(bins=100)\n",
    "print test_pred.nunique()\n",
    "print test_pred.value_counts().head()\n",
    "\n",
    "pred_df = test_df[['instance_id']].join(test_pred)\n",
    "ret_df = ret_test_df[['instance_id']].merge(pred_df)\n",
    "\n",
    "print ret_df.describe()\n",
    "\n",
    "ret_df.to_csv('{0}_{1}/{1}_{2}'.format(cf.model_path, exec_time, cf.result_filename), sep=' ', index=False)"
   ]
  },
  {
   "cell_type": "code",
   "execution_count": null,
   "metadata": {},
   "outputs": [],
   "source": [
    "#analysis\n",
    "imp_df = pd.DataFrame({'feature_name':train_X.columns.values, 'importance':clf.feature_importances_}).sort_values('importance', ascending=False)\n",
    "imp_df.to_csv('{0}_{1}/{1}_{2}'.format(cf.model_path, exec_time, 'importance.csv'), index=False)\n",
    "lgb.plot_importance(clf)\n",
    "imp_df"
   ]
  }
 ],
 "metadata": {
  "kernelspec": {
   "display_name": "Python 3",
   "language": "python",
   "name": "python3"
  },
  "language_info": {
   "codemirror_mode": {
    "name": "ipython",
    "version": 2
   },
   "file_extension": ".py",
   "mimetype": "text/x-python",
   "name": "python",
   "nbconvert_exporter": "python",
   "pygments_lexer": "ipython2",
   "version": "2.7.12"
  }
 },
 "nbformat": 4,
 "nbformat_minor": 2
}
