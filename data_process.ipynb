{
 "cells": [
  {
   "cell_type": "code",
   "execution_count": null,
   "metadata": {},
   "outputs": [],
   "source": [
    "import numpy as np\n",
    "import pandas as pd\n",
    "import statsmodels as sm\n",
    "import matplotlib.pylab as plt\n",
    "import config as cf\n",
    "import import_ipynb\n",
    "import sys\n",
    "\n",
    "from datetime import datetime, timedelta\n",
    "from sklearn.metrics import mean_squared_error\n",
    "from chinese_calendar import is_workday, is_holiday\n",
    "from jupyterthemes import jtplot\n",
    "from IPython.core.display import clear_output\n",
    "from feature_extract import *\n",
    "\n",
    "jtplot.style()\n",
    "pd.options.display.max_rows = 1000\n",
    "pd.options.display.max_columns = 200\n",
    "\n",
    "from IPython.core.display import display, HTML\n",
    "display(HTML(\"<style>.container { width:96% !important; }</style>\"))"
   ]
  },
  {
   "cell_type": "code",
   "execution_count": null,
   "metadata": {},
   "outputs": [],
   "source": [
    "train_df = pd.read_csv(cf.round1_train_file_path, sep = ' ')\n",
    "test_df = pd.read_csv(cf.round1_test_file_path, sep = ' ')\n",
    "\n",
    "category_df = train_df['item_category_list'].unique()\n",
    "category_ids = pd.DataFrame({'item_category_list' : category_df, 'item_category_id' : np.arange(len(category_df))})\n",
    "train_df = train_df.merge(category_ids, on='item_category_list')\n",
    "test_df = test_df.merge(category_ids, on='item_category_list')\n",
    "\n",
    "time_offset = 8 * 60 * 60 - 365 * 24 * 60 * 60\n",
    "train_df.loc[:,'context_datetime'] = pd.to_datetime(train_df.loc[:,'context_timestamp'] + time_offset, unit='s')\n",
    "test_df.loc[:,'context_datetime'] = pd.to_datetime(test_df.loc[:,'context_timestamp'] + time_offset, unit='s')\n",
    "train_df.loc[:,'context_day'] = train_df.loc[:,'context_datetime'].map(lambda x:x.day)\n",
    "test_df.loc[:,'context_day'] = test_df.loc[:,'context_datetime'].map(lambda x:x.day)\n",
    "\n",
    "stat_df = train_df"
   ]
  },
  {
   "cell_type": "code",
   "execution_count": null,
   "metadata": {},
   "outputs": [],
   "source": [
    "# trainV_df = train_df.loc[((train_df['context_datetime'] >= '2017-09-19') & (train_df['context_datetime'] < '2017-09-25')) | ((train_df['context_datetime'] < '2017-09-19') & (train_df['context_timestamp'] % 3 != 0))]\n",
    "# testV_df = train_df.loc[(train_df['context_datetime'] >= '2017-09-18') & (train_df['context_datetime'] < '2017-09-19') & (train_df['context_timestamp'] % 3 == 0)]\n",
    "\n",
    "trainV_df = train_df.loc[(train_df['context_datetime'] >= '2017-09-18') & (train_df['context_datetime'] < '2017-09-24')]\n",
    "testV_df = train_df.loc[(train_df['context_datetime'] >= '2017-09-24') & (train_df['context_datetime'] < '2017-09-25')]"
   ]
  },
  {
   "cell_type": "code",
   "execution_count": null,
   "metadata": {},
   "outputs": [],
   "source": [
    "print len(train_df), len(test_df)\n",
    "print len(trainV_df), len(testV_df)\n",
    "\n",
    "a = set(train_df['user_id'].tolist())\n",
    "b = set(test_df['user_id'].tolist())\n",
    "print 'train user count : %d, test user count : %d, both user count : %d' %(len(a), len(b), len(a & b))\n",
    "a = set(trainV_df['user_id'].tolist())\n",
    "b = set(test_df['user_id'].tolist())\n",
    "print 'trainV user count : %d, test user count : %d, both user count : %d' %(len(a), len(b), len(a & b))"
   ]
  },
  {
   "cell_type": "markdown",
   "metadata": {},
   "source": [
    "> 应用特征处理的结果到验证的训练集和测试集"
   ]
  },
  {
   "cell_type": "code",
   "execution_count": null,
   "metadata": {},
   "outputs": [],
   "source": [
    "def process_train_test_features(tr_df, te_df, st_df):\n",
    "    proc_func_list = [process_context_predict_feature, process_context_time_feature,\n",
    "                      process_user_feature, process_item_feature, process_item_property_feature, process_user_item_feature,\n",
    "                      process_shop_feature, process_shop_score_qcut_feature]\n",
    "#     proc_func_list = [process_context_predict_feature, process_context_time_feature,\n",
    "#                       process_shop_score_qcut_feature]\n",
    "    tr_fs, te_fs = process_base_feature(tr_df, te_df)\n",
    "\n",
    "    print 'begin base:', len(tr_fs), len(te_fs)\n",
    "    for proc_func in proc_func_list:\n",
    "        clear_output()\n",
    "        print 'processing ' + proc_func.func_name + ' ...'\n",
    "        tr_f, te_f = proc_func(tr_df, te_df, st_df)\n",
    "        clear_output()\n",
    "        print 'merging ' + proc_func.func_name + ':', len(tr_f), len(te_f)\n",
    "        tr_fs = tr_fs.merge(tr_f, how='left')\n",
    "        te_fs = te_fs.merge(te_f, how='left')\n",
    "    clear_output()\n",
    "    map(lambda x:x.drop_duplicates(inplace=True), (tr_fs, te_fs))\n",
    "    print 'done features:', len(tr_fs), len(te_fs)\n",
    "    return tr_fs, te_fs"
   ]
  },
  {
   "cell_type": "code",
   "execution_count": null,
   "metadata": {},
   "outputs": [],
   "source": [
    "trV_fs, teV_fs = process_train_test_features(trainV_df, testV_df, stat_df)\n",
    "tr_fs, te_fs = process_train_test_features(train_df, test_df, stat_df)"
   ]
  },
  {
   "cell_type": "code",
   "execution_count": null,
   "metadata": {},
   "outputs": [],
   "source": [
    "print tr_fs.columns.values\n",
    "print tr_fs.shape"
   ]
  },
  {
   "cell_type": "code",
   "execution_count": null,
   "metadata": {},
   "outputs": [],
   "source": [
    "trV_fs.to_csv(cf.train_valid_features_file_path)\n",
    "teV_fs.to_csv(cf.test_valid_features_file_path)\n",
    "\n",
    "tr_fs.to_csv(cf.train_data_features_file_path)\n",
    "te_fs.to_csv(cf.test_data_features_file_path)"
   ]
  }
 ],
 "metadata": {
  "kernelspec": {
   "display_name": "Python 3",
   "language": "python",
   "name": "python3"
  },
  "language_info": {
   "codemirror_mode": {
    "name": "ipython",
    "version": 2
   },
   "file_extension": ".py",
   "mimetype": "text/x-python",
   "name": "python",
   "nbconvert_exporter": "python",
   "pygments_lexer": "ipython2",
   "version": "2.7.12"
  }
 },
 "nbformat": 4,
 "nbformat_minor": 2
}
