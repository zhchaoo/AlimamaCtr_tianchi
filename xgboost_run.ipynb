{
 "cells": [
  {
   "cell_type": "code",
   "execution_count": 1,
   "metadata": {},
   "outputs": [
    {
     "data": {
      "text/html": [
       "<style>.container { width:96% !important; }</style>"
      ],
      "text/plain": [
       "<IPython.core.display.HTML object>"
      ]
     },
     "metadata": {},
     "output_type": "display_data"
    },
    {
     "name": "stdout",
     "output_type": "stream",
     "text": [
      "importing Jupyter notebook from feature_extract.ipynb\n"
     ]
    },
    {
     "name": "stderr",
     "output_type": "stream",
     "text": [
      "/usr/local/lib/python2.7/dist-packages/sklearn/cross_validation.py:41: DeprecationWarning: This module was deprecated in version 0.18 in favor of the model_selection module into which all the refactored classes and functions are moved. Also note that the interface of the new CV iterators are different from that of this module. This module will be removed in 0.20.\n",
      "  \"This module will be removed in 0.20.\", DeprecationWarning)\n"
     ]
    },
    {
     "data": {
      "text/html": [
       "<style>.container { width:96% !important; }</style>"
      ],
      "text/plain": [
       "<IPython.core.display.HTML object>"
      ]
     },
     "metadata": {},
     "output_type": "display_data"
    }
   ],
   "source": [
    "import numpy as np\n",
    "import pandas as pd\n",
    "import statsmodels as sm\n",
    "import matplotlib.pylab as plt\n",
    "import config as cf\n",
    "import import_ipynb\n",
    "import os\n",
    "import sys\n",
    "import xgboost\n",
    "import time\n",
    "\n",
    "from datetime import datetime, timedelta\n",
    "from sklearn.metrics import mean_squared_error, log_loss\n",
    "from chinese_calendar import is_workday, is_holiday\n",
    "from jupyterthemes import jtplot\n",
    "from IPython.core.display import clear_output\n",
    "from feature_extract import *\n",
    "\n",
    "jtplot.style()\n",
    "pd.options.display.max_rows = 1000\n",
    "pd.options.display.max_columns = 200\n",
    "\n",
    "from IPython.core.display import display, HTML\n",
    "display(HTML(\"<style>.container { width:96% !important; }</style>\"))"
   ]
  },
  {
   "cell_type": "code",
   "execution_count": 2,
   "metadata": {},
   "outputs": [],
   "source": [
    "exec_time = time.strftime(\"%Y%m%d%H%M\", time.localtime())\n",
    "os.mkdir('{0}_{1}'.format(cf.model_path, exec_time))"
   ]
  },
  {
   "cell_type": "code",
   "execution_count": 3,
   "metadata": {},
   "outputs": [],
   "source": [
    "trainV_df = pd.read_csv(cf.train_valid_features_file_path, index_col=0)\n",
    "testV_df = pd.read_csv(cf.test_valid_features_file_path, index_col=0)\n",
    "\n",
    "train_df = pd.read_csv(cf.train_data_features_file_path, index_col=0)\n",
    "test_df = pd.read_csv(cf.test_data_features_file_path, index_col=0)\n",
    "\n",
    "ret_test_df = pd.read_csv(cf.round1_test_file_path, sep=' ')"
   ]
  },
  {
   "cell_type": "code",
   "execution_count": 4,
   "metadata": {},
   "outputs": [
    {
     "name": "stdout",
     "output_type": "stream",
     "text": [
      "(57418, 59)\n",
      "(420693, 59)\n",
      "(18371, 58)\n",
      "(478111, 59)\n",
      "            is_trade\n",
      "count  420693.000000\n",
      "mean        0.019078\n",
      "std         0.136800\n",
      "min         0.000000\n",
      "25%         0.000000\n",
      "50%         0.000000\n",
      "75%         0.000000\n",
      "max         1.000000\n",
      "           is_trade\n",
      "count  57418.000000\n",
      "mean       0.016859\n",
      "std        0.128744\n",
      "min        0.000000\n",
      "25%        0.000000\n",
      "50%        0.000000\n",
      "75%        0.000000\n",
      "max        1.000000\n",
      "            is_trade\n",
      "count  478111.000000\n",
      "mean        0.018812\n",
      "std         0.135859\n",
      "min         0.000000\n",
      "25%         0.000000\n",
      "50%         0.000000\n",
      "75%         0.000000\n",
      "max         1.000000\n"
     ]
    }
   ],
   "source": [
    "print testV_df.shape\n",
    "print trainV_df.shape\n",
    "\n",
    "print test_df.shape\n",
    "print train_df.shape\n",
    "\n",
    "print trainV_df[['is_trade']].describe()\n",
    "print testV_df[['is_trade']].describe()\n",
    "print train_df[['is_trade']].describe()"
   ]
  },
  {
   "cell_type": "code",
   "execution_count": 5,
   "metadata": {},
   "outputs": [
    {
     "name": "stdout",
     "output_type": "stream",
     "text": [
      "(420693, 50)\n",
      "(57418, 50)\n",
      "(478111, 50)\n",
      "(18371, 50)\n"
     ]
    }
   ],
   "source": [
    "trainV_y = trainV_df.iloc[:,0]\n",
    "trainV_X = trainV_df.iloc[:,9:]\n",
    "testV_y = testV_df.iloc[:,0]\n",
    "testV_X = testV_df.iloc[:,9:]\n",
    "\n",
    "train_y = train_df.iloc[:,0]\n",
    "train_X = train_df.iloc[:,9:]\n",
    "test_X = test_df.iloc[:,8:]\n",
    "\n",
    "print trainV_X.shape\n",
    "print testV_X.shape\n",
    "print train_X.shape\n",
    "print test_X.shape"
   ]
  },
  {
   "cell_type": "code",
   "execution_count": 6,
   "metadata": {},
   "outputs": [
    {
     "name": "stdout",
     "output_type": "stream",
     "text": [
      "model training\n",
      "model.best_score: 0.08508, model.best_iteration: 1121, model.best_ntree_limit: 1122\n"
     ]
    }
   ],
   "source": [
    "# train\n",
    "save_stdout = sys.stdout\n",
    "\n",
    "trainV_matrix = xgboost.DMatrix(trainV_X.values, label=trainV_y.values, feature_names=trainV_X.columns)\n",
    "testV_matrix = xgboost.DMatrix(testV_X.values, label=testV_y.values, feature_names=testV_X.columns)\n",
    "\n",
    "train_matrix = xgboost.DMatrix(train_X.values, label=train_y.values, feature_names=train_X.columns)\n",
    "predict_matrix = xgboost.DMatrix(test_X.values, feature_names=test_X.columns)\n",
    "\n",
    "watchlist = [(trainV_matrix, 'train'), (testV_matrix, 'eval')]\n",
    "num_round=4000\n",
    "early_stopping_rounds=200\n",
    "param = {\n",
    "    'max_depth': 8,\n",
    "    'eta': 0.01,\n",
    "    'silent': 1,\n",
    "    'seed': 13,\n",
    "    'objective': 'binary:logistic',\n",
    "    'eval_metric': 'logloss',\n",
    "    'scale_pos_weight': 2,\n",
    "    'subsample': 0.8,\n",
    "    'colsample_bytree': 0.7,\n",
    "    'min_child_weight': 100,\n",
    "    'max_delta_step': 20\n",
    "}\n",
    "\n",
    "\n",
    "print 'model training'\n",
    "with open('{0}_{1}/{2}'.format(cf.model_path, exec_time, cf.model_valid_log), 'w+') as outf:\n",
    "    sys.stdout = outf\n",
    "    model = xgboost.train(param, trainV_matrix, num_boost_round=num_round, evals=watchlist, early_stopping_rounds=early_stopping_rounds)\n",
    "\n",
    "sys.stdout = save_stdout\n",
    "print 'model.best_score: {0}, model.best_iteration: {1}, model.best_ntree_limit: {2}'.format(model.best_score, model.best_iteration, model.best_ntree_limit)"
   ]
  },
  {
   "cell_type": "code",
   "execution_count": 7,
   "metadata": {},
   "outputs": [
    {
     "name": "stdout",
     "output_type": "stream",
     "text": [
      "0.069372    4\n",
      "0.014136    4\n",
      "0.021594    4\n",
      "0.016097    4\n",
      "0.107951    4\n",
      "Name: predicted_score, dtype: int64\n",
      "        instance_id  predicted_score\n",
      "count  1.837100e+04     18371.000000\n",
      "mean   4.607419e+18         0.025282\n",
      "std    2.674410e+18         0.018774\n",
      "min    1.772728e+14         0.002492\n",
      "25%    2.287309e+18         0.012403\n",
      "50%    4.627598e+18         0.019806\n",
      "75%    6.928380e+18         0.032292\n",
      "max    9.222350e+18         0.193250\n",
      "test log loss: 0.0850802579155\n"
     ]
    },
    {
     "data": {
      "image/png": "[encoded data removed]",
      "text/plain": [
       "<matplotlib.figure.Figure at 0x7f5e36bc2110>"
      ]
     },
     "metadata": {},
     "output_type": "display_data"
    }
   ],
   "source": [
    "# test\n",
    "test_matrix = xgboost.DMatrix(testV_X.values, feature_names=testV_X.columns)\n",
    "\n",
    "pred_y = model.predict(test_matrix, ntree_limit=model.best_ntree_limit)\n",
    "frame = pd.Series(pred_y, index=testV_df.index)\n",
    "frame.name = 'predicted_score'\n",
    "frame.hist()\n",
    "print frame.value_counts().head()\n",
    "\n",
    "pred_df = test_df[['instance_id']].join(frame)\n",
    "ret_df = ret_test_df[['instance_id']].merge(pred_df)\n",
    "\n",
    "print ret_df.describe()\n",
    "print \"test log loss:\", log_loss(testV_y.values, pred_y)"
   ]
  },
  {
   "cell_type": "code",
   "execution_count": 8,
   "metadata": {},
   "outputs": [
    {
     "name": "stdout",
     "output_type": "stream",
     "text": [
      "0.066071    10\n",
      "0.053295     8\n",
      "0.061110     8\n",
      "0.058699     7\n",
      "0.055512     7\n",
      "Name: predicted_score, dtype: int64\n",
      "        instance_id  predicted_score\n",
      "count  1.837100e+04     18371.000000\n",
      "mean   4.607419e+18         0.050122\n",
      "std    2.674410e+18         0.016898\n",
      "min    1.772728e+14         0.009399\n",
      "25%    2.287309e+18         0.037816\n",
      "50%    4.627598e+18         0.048746\n",
      "75%    6.928380e+18         0.061365\n",
      "max    9.222350e+18         0.117504\n"
     ]
    },
    {
     "data": {
      "image/png": "[encoded data removed]",
      "text/plain": [
       "<matplotlib.figure.Figure at 0x7f5e36b79a10>"
      ]
     },
     "metadata": {},
     "output_type": "display_data"
    }
   ],
   "source": [
    "# predict\n",
    "pred_y = model.predict(predict_matrix, ntree_limit=model.best_ntree_limit)\n",
    "frame = pd.Series(pred_y, index=test_df.index)\n",
    "frame.name = 'predicted_score'\n",
    "frame.hist()\n",
    "print frame.value_counts().head()\n",
    "\n",
    "pred_df = test_df[['instance_id']].join(frame)\n",
    "ret_df = ret_test_df[['instance_id']].merge(pred_df)\n",
    "\n",
    "print ret_df.describe()\n",
    "\n",
    "ret_df.to_csv('{0}_{1}/{1}_{2}'.format(cf.model_path, exec_time, cf.result_filename), sep=' ', index=False)"
   ]
  }
 ],
 "metadata": {
  "kernelspec": {
   "display_name": "Python 3",
   "language": "python",
   "name": "python3"
  },
  "language_info": {
   "codemirror_mode": {
    "name": "ipython",
    "version": 2
   },
   "file_extension": ".py",
   "mimetype": "text/x-python",
   "name": "python",
   "nbconvert_exporter": "python",
   "pygments_lexer": "ipython2",
   "version": "2.7.12"
  }
 },
 "nbformat": 4,
 "nbformat_minor": 2
}
